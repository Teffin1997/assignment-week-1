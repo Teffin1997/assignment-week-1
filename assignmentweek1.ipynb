{
  "nbformat": 4,
  "nbformat_minor": 0,
  "metadata": {
    "colab": {
      "provenance": []
    },
    "kernelspec": {
      "name": "python3",
      "display_name": "Python 3"
    },
    "language_info": {
      "name": "python"
    }
  },
  "cells": [
    {
      "cell_type": "code",
      "execution_count": null,
      "metadata": {
        "id": "wA8BY8u6MX9P"
      },
      "outputs": [],
      "source": []
    },
    {
      "cell_type": "markdown",
      "source": [
        "# **Assignment day 2**"
      ],
      "metadata": {
        "id": "3enOvENkPaQi"
      }
    },
    {
      "cell_type": "code",
      "source": [
        "# question no:1\n",
        "name = input('Enter the name')\n",
        "rollno = input('Enter roll number')\n",
        "mark = input('enter the mark')\n",
        "print('Name: ',name)\n",
        "print('Roll no: ',rollno)\n",
        "print('Mark: ',mark)"
      ],
      "metadata": {
        "colab": {
          "base_uri": "https://localhost:8080/"
        },
        "id": "GlxZoKCyPh3V",
        "outputId": "77c31d50-af54-416d-f66e-70373f840244"
      },
      "execution_count": null,
      "outputs": [
        {
          "output_type": "stream",
          "name": "stdout",
          "text": [
            "Enter the nameanish\n",
            "Enter roll number35\n",
            "enter the mark55\n",
            "Name:  anish\n",
            "Roll no:  35\n",
            "Mark:  55\n"
          ]
        }
      ]
    },
    {
      "cell_type": "code",
      "source": [
        "# question no:2\n",
        "temp = input ('Input the temperature you like to convert(eg: 45f,100c, etc.)')\n",
        "degree = int(temp[:-1])\n",
        "i_convention = temp[-1]\n",
        "\n",
        "if i_convention.upper()== 'C':\n",
        "  result = int(round((9*degree / +32)))\n",
        "  o_convention = 'fahrenhiet'\n",
        "elif i_convention.upper()== 'F':\n",
        "  result = int(round((degree-32)*5/9))\n",
        "  o_convention = 'celsius'\n",
        "else:\n",
        "    print('Input proper convention.')\n",
        "    quit()\n",
        "print('the temperature in', o_convention,'is',result,'degrees')\n"
      ],
      "metadata": {
        "colab": {
          "base_uri": "https://localhost:8080/"
        },
        "id": "IVT005FqRaJ_",
        "outputId": "6f3fd59e-abbd-4ce1-f0be-600e7d5193ab"
      },
      "execution_count": null,
      "outputs": [
        {
          "output_type": "stream",
          "name": "stdout",
          "text": [
            "Input the temperature you like to convert(eg: 45f,100c, etc.)45f\n",
            "the temperature in celsius is 7 degrees\n"
          ]
        }
      ]
    },
    {
      "cell_type": "code",
      "source": [
        "# question no: 3\n",
        "firstnumber = int(input('Enter first number'))\n",
        "secondnumber = int(input('Enter second number'))\n",
        "result = firstnumber*secondnumber\n",
        "print(firstnumber,'*',secondnumber, '=' ,result)\n"
      ],
      "metadata": {
        "colab": {
          "base_uri": "https://localhost:8080/"
        },
        "id": "itEPDm5rquPG",
        "outputId": "6ffbf950-5e28-44e1-df12-996f087e5323"
      },
      "execution_count": null,
      "outputs": [
        {
          "output_type": "stream",
          "name": "stdout",
          "text": [
            "Enter first number5\n",
            "Enter second number5\n",
            "5 * 5 = 25\n"
          ]
        }
      ]
    },
    {
      "cell_type": "code",
      "source": [
        "# question no: 4\n",
        "message1 = 'learn python by developing a website'\n",
        "message2 = 'learn ** python** by developing a **website**'\n",
        "message1 = message2\n",
        "print (message1)\n"
      ],
      "metadata": {
        "colab": {
          "base_uri": "https://localhost:8080/"
        },
        "id": "ACpTvuJotdjd",
        "outputId": "35f7bcf6-db7b-4906-f294-355b096ded8f"
      },
      "execution_count": null,
      "outputs": [
        {
          "output_type": "stream",
          "name": "stdout",
          "text": [
            "learn ** python** by developing a **website**\n"
          ]
        }
      ]
    },
    {
      "cell_type": "code",
      "source": [
        "# question no: 5\n",
        "import math\n",
        "rad = int(input('radious of the circle'))\n",
        "area = math.pi * rad**2\n",
        "print('area of the circle= ',area)"
      ],
      "metadata": {
        "colab": {
          "base_uri": "https://localhost:8080/"
        },
        "id": "x9JD8UBp0JO2",
        "outputId": "9f5f3bfd-a525-4add-95fc-12bdf016e021"
      },
      "execution_count": null,
      "outputs": [
        {
          "output_type": "stream",
          "name": "stdout",
          "text": [
            "radious of the circle5\n",
            "area of the circle=  78.53981633974483\n"
          ]
        }
      ]
    },
    {
      "cell_type": "code",
      "source": [
        "# questian no:6\n",
        "list1 = [55,66,77,88]\n",
        "value1 = input('Enter the element to be inserted')\n",
        "position1 = int(input('enter the position where the element to be inserted'))\n",
        "list1.insert(position1,value1)\n",
        "print(list1)"
      ],
      "metadata": {
        "colab": {
          "base_uri": "https://localhost:8080/"
        },
        "id": "RnBluFdg4TRC",
        "outputId": "857d79dd-a04d-4c0c-d911-aa3768a7043f"
      },
      "execution_count": null,
      "outputs": [
        {
          "output_type": "stream",
          "name": "stdout",
          "text": [
            "Enter the element to be inserted99\n",
            "enter the position where the element to be inserted4\n",
            "[55, 66, 77, 88, '99']\n"
          ]
        }
      ]
    },
    {
      "cell_type": "code",
      "source": [
        "# question no: 7\n",
        "sample_dic = {'name':'john','age':5,'salary':8000,'city':'new york'}\n",
        "city1 = input('name of the city')\n",
        "sample_dic['city'] = city1\n",
        "print(sample_dic)"
      ],
      "metadata": {
        "colab": {
          "base_uri": "https://localhost:8080/"
        },
        "id": "upKD9fsT6q48",
        "outputId": "27ca45df-9870-4396-adcf-dc3ca9b15562"
      },
      "execution_count": null,
      "outputs": [
        {
          "output_type": "stream",
          "name": "stdout",
          "text": [
            "name of the cityindia\n",
            "{'name': 'john', 'age': 5, 'salary': 8000, 'city': 'india'}\n"
          ]
        }
      ]
    },
    {
      "cell_type": "code",
      "source": [
        "# question no: 8\n",
        "sample_dic1 = {'emp1':{'name':'john','salary':7500},'emp2':{'name':'emma','salary':800},'emp3':{'name':'brad','salary':500}}\n",
        "sample_dic1['emp3'] = {'name':'brad','salary':8500}\n",
        "print(sample_dic1) "
      ],
      "metadata": {
        "colab": {
          "base_uri": "https://localhost:8080/"
        },
        "id": "E724Fo7M90IC",
        "outputId": "5d9bdd8d-87c1-465c-8110-ea62e5ec6986"
      },
      "execution_count": null,
      "outputs": [
        {
          "output_type": "stream",
          "name": "stdout",
          "text": [
            "{'emp1': {'name': 'john', 'salary': 7500}, 'emp2': {'name': 'emma', 'salary': 800}, 'emp3': {'name': 'brad', 'salary': 8500}}\n"
          ]
        }
      ]
    },
    {
      "cell_type": "code",
      "source": [
        "# question no: 9\n",
        "tuple1 = (10,20,43,54,56,68)\n",
        "tuple2 = (tuple1[2],tuple1[3])\n",
        "print(tuple2)"
      ],
      "metadata": {
        "colab": {
          "base_uri": "https://localhost:8080/"
        },
        "id": "uYwTXfzwCe_a",
        "outputId": "7ddf9509-9d77-4972-8318-2ec3b91b1ca6"
      },
      "execution_count": null,
      "outputs": [
        {
          "output_type": "stream",
          "name": "stdout",
          "text": [
            "(43, 54)\n"
          ]
        }
      ]
    },
    {
      "cell_type": "code",
      "source": [
        "# question no: 10\n",
        "tuPle1 = (50,10,60,70,50,83,567,50,81)\n",
        "tuPle1.count(50)"
      ],
      "metadata": {
        "colab": {
          "base_uri": "https://localhost:8080/"
        },
        "id": "4MbJ247mET7b",
        "outputId": "4e07f49b-afb6-430f-a33f-652b727b5ffd"
      },
      "execution_count": null,
      "outputs": [
        {
          "output_type": "execute_result",
          "data": {
            "text/plain": [
              "3"
            ]
          },
          "metadata": {},
          "execution_count": 25
        }
      ]
    }
  ]
}